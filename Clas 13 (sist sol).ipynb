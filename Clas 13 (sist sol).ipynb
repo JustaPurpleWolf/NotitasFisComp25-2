{
 "cells": [
  {
   "cell_type": "code",
   "execution_count": 5,
   "id": "08c27ce0-f641-465d-9127-1209f5434780",
   "metadata": {},
   "outputs": [],
   "source": [
    "import math as m\n",
    "import numpy as np\n",
    "import scipy.integrate as sp\n",
    "import matplotlib.pyplot as plt"
   ]
  },
  {
   "cell_type": "code",
   "execution_count": 6,
   "id": "4a4e33c2-6662-4b15-b241-5b55741c964b",
   "metadata": {},
   "outputs": [],
   "source": [
    "def sist_sol(t,x_v):\n",
    "    # x_v = [x,y,vx,vy]\n",
    "    dx = x_v[2]\n",
    "    dy = x_v[3]\n",
    "    r32 = ( x_v[0]**2 + x_v[1]**2 )**1.5\n",
    "    dvx = -x_v[0]/r32\n",
    "    dvy = -x_v[1]/r32\n",
    "    return np.array([dx,dy,dvx,dvy])\n",
    "\n",
    "def E_s_sol(x_v):\n",
    "    # x_v = [x,y,vx,vy]\n",
    "    K = 0.5*(x_v[2]**2 + x_v[3]**2)\n",
    "    U = -1/np.sqrt(x_v[0]**2 + x_v[1]**2)\n",
    "    return K+U\n",
    "\n",
    "def momento_l(x_v):\n",
    "    # x_v = [x,y,vx,vy]\n",
    "    return x_v[0]*x_v[3]- x_v[1]*x_v[2]\n",
    "\n",
    "def Pot_eff(x_v):\n",
    "    # x_v = [x,y,vx,vy]\n",
    "    P_cent = 0.5*momento_l(x_v)**2/(x_v[0]**2 + x_v[1]**2)\n",
    "    P_grav = -1/np.sqrt(x_v[0]**2 + x_v[1]**2)\n",
    "    return P_cent + P_grav"
   ]
  },
  {
   "cell_type": "code",
   "execution_count": 8,
   "id": "747e369c-3d86-487a-a652-1fd4f4e14f5e",
   "metadata": {},
   "outputs": [
    {
     "data": {
      "text/plain": [
       "-0.32000000000000006"
      ]
     },
     "execution_count": 8,
     "metadata": {},
     "output_type": "execute_result"
    }
   ],
   "source": [
    "ci = np.array([1,0,0.6,1])\n",
    "E_s_sol(ci)"
   ]
  },
  {
   "cell_type": "code",
   "execution_count": null,
   "id": "cb8ed9b4-c2e5-473b-9b99-3a5798840a8d",
   "metadata": {},
   "outputs": [],
   "source": []
  }
 ],
 "metadata": {
  "kernelspec": {
   "display_name": "Python 3 (ipykernel)",
   "language": "python",
   "name": "python3"
  },
  "language_info": {
   "codemirror_mode": {
    "name": "ipython",
    "version": 3
   },
   "file_extension": ".py",
   "mimetype": "text/x-python",
   "name": "python",
   "nbconvert_exporter": "python",
   "pygments_lexer": "ipython3",
   "version": "3.9.12"
  }
 },
 "nbformat": 4,
 "nbformat_minor": 5
}
