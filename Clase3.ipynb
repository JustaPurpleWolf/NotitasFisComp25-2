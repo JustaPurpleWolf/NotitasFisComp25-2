{
 "cells": [
  {
   "cell_type": "code",
   "execution_count": 152,
   "id": "639470fb-e848-4c18-a4e6-335994d4e5e6",
   "metadata": {},
   "outputs": [],
   "source": [
    "import math as m\n",
    "import numpy as np\n",
    "import matplotlib.pyplot as plt\n",
    "import scipy.special as sp\n",
    "import sklearn as sk\n",
    "from numba import njit"
   ]
  },
  {
   "cell_type": "markdown",
   "id": "c92b227f-712e-4a95-b95a-856e88f2f23a",
   "metadata": {},
   "source": [
    "Definición de la función seno:\n",
    "\n",
    "$$\n",
    "\\sin (x) = \\sum _{n=0} ^\\infty \\frac{-1^n}{(2n+1)!} x^{2n+1} = x - \\frac{x^3}{3!} + \\frac{x^5}{5!} + ...\n",
    "$$"
   ]
  },
  {
   "cell_type": "code",
   "execution_count": 150,
   "id": "f206c2ec-ba8c-4658-858a-bb1154e3eb08",
   "metadata": {},
   "outputs": [],
   "source": [
    "def mi_sin( x , N=10 ):\n",
    "    y = 0\n",
    "    for n in range(N):\n",
    "        y += (-1)**n * (x**(2*n+1)/m.factorial(2*n+1))\n",
    "    return y\n",
    "\n",
    "@njit\n",
    "def mi_sin_mejorado( x , N=10 ):\n",
    "    y = 0\n",
    "    factoriales = [1,6,120,5040,362880,39916800,6227020800,1307674368000,355687428096000,121645100408832000]\n",
    "    exponentes = [1,3,5,7,9,11,13,15,17,19]\n",
    "    for n in range(N):\n",
    "        y += (-1)**n * (x**exponentes[n]/factoriales[n])\n",
    "    return y"
   ]
  },
  {
   "cell_type": "code",
   "execution_count": 151,
   "id": "9ea7cca2-86fc-4878-a657-b5018cf56b9a",
   "metadata": {},
   "outputs": [
    {
     "name": "stdout",
     "output_type": "stream",
     "text": [
      "Con mi función: \t -5.28918280357759e-10\n",
      "Con mi función v2: \t -5.289182672965142e-10\n",
      "Con la función de math:\t 1.2246467991473532e-16\n",
      "Con la función de numpy:\t 1.2246467991473532e-16\n"
     ]
    }
   ],
   "source": [
    "x = m.pi\n",
    "print('Con mi función: \\t', mi_sin(x) )\n",
    "print('Con mi función v2: \\t', mi_sin_mejorado(x) )\n",
    "print('Con la función de math:\\t', m.sin(x) )\n",
    "print('Con la función de numpy:\\t', np.sin(x) )"
   ]
  },
  {
   "cell_type": "code",
   "execution_count": 104,
   "id": "ec7be503-e43b-4341-b5fc-e66db109a89a",
   "metadata": {},
   "outputs": [
    {
     "name": "stdout",
     "output_type": "stream",
     "text": [
      "3.38 µs ± 15.2 ns per loop (mean ± std. dev. of 7 runs, 100,000 loops each)\n"
     ]
    }
   ],
   "source": [
    "%%timeit\n",
    "mi_sin(x)"
   ]
  },
  {
   "cell_type": "code",
   "execution_count": 105,
   "id": "919fc59d-8cb1-4ab3-96de-b206389c9df6",
   "metadata": {},
   "outputs": [
    {
     "name": "stdout",
     "output_type": "stream",
     "text": [
      "239 ns ± 3.34 ns per loop (mean ± std. dev. of 7 runs, 1,000,000 loops each)\n"
     ]
    }
   ],
   "source": [
    "%%timeit\n",
    "mi_sin_mejorado(x)"
   ]
  },
  {
   "cell_type": "code",
   "execution_count": 106,
   "id": "9c9054eb-28ce-42d0-8eed-15e240579034",
   "metadata": {},
   "outputs": [
    {
     "name": "stdout",
     "output_type": "stream",
     "text": [
      "54.8 ns ± 0.61 ns per loop (mean ± std. dev. of 7 runs, 10,000,000 loops each)\n"
     ]
    }
   ],
   "source": [
    "%%timeit\n",
    "m.sin(x)"
   ]
  },
  {
   "cell_type": "code",
   "execution_count": 107,
   "id": "c6e0a0f3-a881-4fa1-8b5a-fcca3a26ab0b",
   "metadata": {},
   "outputs": [
    {
     "name": "stdout",
     "output_type": "stream",
     "text": [
      "317 ns ± 1.03 ns per loop (mean ± std. dev. of 7 runs, 1,000,000 loops each)\n"
     ]
    }
   ],
   "source": [
    "%%timeit\n",
    "np.sin(x)"
   ]
  },
  {
   "cell_type": "code",
   "execution_count": 137,
   "id": "552386c1-50da-485b-9f97-d0d70dd7e223",
   "metadata": {},
   "outputs": [
    {
     "data": {
      "image/png": "[encoded data removed]",
      "text/plain": [
       "<Figure size 432x288 with 1 Axes>"
      ]
     },
     "metadata": {
      "needs_background": "light"
     },
     "output_type": "display_data"
    }
   ],
   "source": [
    "x = np.linspace(0,3*m.pi)\n",
    "y_np = np.sin(x)\n",
    "y_misin = mi_sin(x)\n",
    "plt.plot(x,y_np,label=r\"$\\sin (x)$ de Numpy\")\n",
    "plt.plot(x,y_misin,label=r\"Mi $\\sin (x)$\")\n",
    "plt.ylim([-2,2])\n",
    "plt.title('Comparación')\n",
    "plt.legend(),plt.grid()\n",
    "plt.show()"
   ]
  },
  {
   "cell_type": "code",
   "execution_count": 147,
   "id": "2f97a562-7aa6-4c4f-a43d-77d17d6f1b7d",
   "metadata": {},
   "outputs": [
    {
     "data": {
      "text/plain": [
       "array([1.000e+00, 1.000e+00, 2.000e+00, 6.000e+00, 2.400e+01, 1.200e+02,\n",
       "       7.200e+02, 5.040e+03, 4.032e+04])"
      ]
     },
     "execution_count": 147,
     "metadata": {},
     "output_type": "execute_result"
    }
   ],
   "source": [
    "x = np.arange(1,10)\n",
    "sp.gamma(x)"
   ]
  },
  {
   "cell_type": "code",
   "execution_count": null,
   "id": "fff0e42a-98af-420e-9039-0383f8d35760",
   "metadata": {},
   "outputs": [],
   "source": []
  }
 ],
 "metadata": {
  "kernelspec": {
   "display_name": "Python 3 (ipykernel)",
   "language": "python",
   "name": "python3"
  },
  "language_info": {
   "codemirror_mode": {
    "name": "ipython",
    "version": 3
   },
   "file_extension": ".py",
   "mimetype": "text/x-python",
   "name": "python",
   "nbconvert_exporter": "python",
   "pygments_lexer": "ipython3",
   "version": "3.9.12"
  }
 },
 "nbformat": 4,
 "nbformat_minor": 5
}
