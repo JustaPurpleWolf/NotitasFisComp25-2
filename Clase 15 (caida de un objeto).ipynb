{
 "cells": [
  {
   "cell_type": "code",
   "execution_count": 1,
   "id": "ab03b119-12ce-462f-ad45-3f4676f1d6af",
   "metadata": {},
   "outputs": [],
   "source": [
    "import math as m\n",
    "import numpy as np\n",
    "import scipy.integrate as sp\n",
    "import matplotlib.pyplot as plt\n",
    "from matplotlib import animation\n",
    "from IPython.display import HTML"
   ]
  },
  {
   "cell_type": "markdown",
   "id": "9de32111-b5b1-418f-a1b9-138409b1b9a8",
   "metadata": {},
   "source": [
    "$$\n",
    "m \\frac{d^2 \\vec r}{dt^2} = -mg \\hat j - \\gamma \\vec v\n",
    "$$\n",
    "\n",
    "simplificando\n",
    "\n",
    "$$\n",
    "\\ddot x = - \\gamma v_x \\\\\n",
    "\\ddot y = -g - \\gamma v_y\n",
    "$$\n",
    "\n",
    "Escrito como sistema de ecuaciones:\n",
    "\n",
    "$$\n",
    "\\dot x = v_x \\\\\n",
    "\\dot v_x = - \\gamma v_x \\\\\n",
    "\\dot y = v_y \\\\\n",
    "\\dot v_y = -g  - \\gamma v_y\n",
    "$$\n"
   ]
  },
  {
   "cell_type": "code",
   "execution_count": 10,
   "id": "fa2c6c56-6d9d-4c83-a63d-3fab23912d87",
   "metadata": {},
   "outputs": [],
   "source": [
    "def caida_libre(t , x_v , g=9.81 , gam = 0):\n",
    "    # x_v = [x,y,vx,vy]\n",
    "    dx = x_v[2]\n",
    "    dy = x_v[3]\n",
    "    dvx = -gam*x_v[2]\n",
    "    dvy = -g -gam*x_v[3]\n",
    "    return np.array([dx,dy,dvx,dvy])\n",
    "\n",
    "def suelo(t,x_v, g=9.81 , gam = 0):\n",
    "    return x_v[1]"
   ]
  },
  {
   "cell_type": "code",
   "execution_count": 44,
   "id": "e4583c5b-7c65-4582-8863-08972237a68e",
   "metadata": {},
   "outputs": [],
   "source": [
    "tf = 1\n",
    "ci = [0.0,0.0,0.2,4.0]\n",
    "x_v = sp.solve_ivp(caida_libre,(0,tf),ci,dense_output=True,events=suelo)\n",
    "t_reb = x_v.t_events[0][-1]\n",
    "t = np.linspace(0,t_reb)\n",
    "x,y,vx,vy = x_v.sol(t)\n",
    "n_ci = x_v.sol(t_reb)\n",
    "n_ci[3] = -n_ci[3]\n",
    "x_v = sp.solve_ivp(caida_libre,(0,1.1*t_reb),n_ci,dense_output=True,events=suelo)\n",
    "t_reb = x_v.t_events[0][-1]\n",
    "t = np.linspace(0,t_reb)\n",
    "x2,y2,vx2,vy2 = x_v.sol(t)\n",
    "n_ci = x_v.sol(t_reb)\n",
    "n_ci[3] = -n_ci[3]\n",
    "x_tot , y_tot = np.concatenate((x,x2)) , np.concatenate((y,y2))"
   ]
  },
  {
   "cell_type": "code",
   "execution_count": 45,
   "id": "a5dfb872-4af9-43c9-bb99-9fe21dfc912e",
   "metadata": {},
   "outputs": [
    {
     "data": {
      "image/png": "[encoded data removed]",
      "text/plain": [
       "<Figure size 432x288 with 1 Axes>"
      ]
     },
     "metadata": {
      "needs_background": "light"
     },
     "output_type": "display_data"
    }
   ],
   "source": [
    "plt.plot(x_tot,y_tot)\n",
    "plt.show()"
   ]
  },
  {
   "cell_type": "code",
   "execution_count": null,
   "id": "7e205548-90b3-45ce-b2dd-36f6061981b9",
   "metadata": {},
   "outputs": [],
   "source": []
  }
 ],
 "metadata": {
  "kernelspec": {
   "display_name": "Python 3 (ipykernel)",
   "language": "python",
   "name": "python3"
  },
  "language_info": {
   "codemirror_mode": {
    "name": "ipython",
    "version": 3
   },
   "file_extension": ".py",
   "mimetype": "text/x-python",
   "name": "python",
   "nbconvert_exporter": "python",
   "pygments_lexer": "ipython3",
   "version": "3.9.12"
  }
 },
 "nbformat": 4,
 "nbformat_minor": 5
}
