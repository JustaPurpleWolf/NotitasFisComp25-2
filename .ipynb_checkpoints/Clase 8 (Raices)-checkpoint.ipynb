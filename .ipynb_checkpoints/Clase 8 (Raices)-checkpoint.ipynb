{
 "cells": [
  {
   "cell_type": "code",
   "execution_count": 1,
   "id": "7a3db681-237a-4183-b953-e4cc43d8b506",
   "metadata": {},
   "outputs": [],
   "source": [
    "import math as m\n",
    "import numpy as np\n",
    "import scipy.special as sp\n",
    "import matplotlib.pyplot as plt"
   ]
  },
  {
   "cell_type": "code",
   "execution_count": 67,
   "id": "724d0098-edae-49fb-9802-5e135a336f48",
   "metadata": {},
   "outputs": [],
   "source": [
    "def raiz_newton_a(f , fp , x0 , err = 1e-8):\n",
    "    d_raiz = 2*err\n",
    "    contador = 0 \n",
    "    while abs(f(x0)) >= err or d_raiz >= err:\n",
    "        x_old = x0\n",
    "        x0 = x0 - f(x0)/fp(x0)\n",
    "        d_raiz = abs(x0 - x_old)\n",
    "        contador += 1\n",
    "        print(contador, '\\t',x0, '\\t' ,d_raiz )\n",
    "    return x0\n",
    "\n",
    "def raiz_newton_n(f , x0 , err = 1e-8 , h=1e-5):\n",
    "    d_raiz = 2*err\n",
    "    contador = 0 \n",
    "    while abs(f(x0)) >= err or d_raiz >= err:\n",
    "        x_old = x0\n",
    "        fp = (f(x0+h)-f(x0-h))/(2*h)\n",
    "        x0 = x0 - f(x0)/fp\n",
    "        d_raiz = abs(x0 - x_old)\n",
    "        contador += 1\n",
    "        print(contador, '\\t',x0, '\\t' ,d_raiz )\n",
    "    return x0"
   ]
  },
  {
   "cell_type": "code",
   "execution_count": 68,
   "id": "f12f2703-e064-40af-8730-26485431c967",
   "metadata": {},
   "outputs": [],
   "source": [
    "def mi_fun(x):\n",
    "    return np.sin(x)/x\n",
    "\n",
    "def deriv_mi_fun(x):\n",
    "    return (x*np.cos(x) - np.sin(x))/x**2"
   ]
  },
  {
   "cell_type": "code",
   "execution_count": 69,
   "id": "cae35433-7f3a-4003-b8c5-6e0ba87a931f",
   "metadata": {},
   "outputs": [
    {
     "name": "stdout",
     "output_type": "stream",
     "text": [
      "1 \t 3.044214599933897 \t 1.044214599933897\n",
      "2 \t 3.1388643666227196 \t 0.09464976668882263\n",
      "3 \t 3.1415902909919593 \t 0.002725924369239685\n",
      "4 \t 3.1415926535880163 \t 2.362596057015054e-06\n",
      "5 \t 3.141592653589793 \t 1.7768009286101005e-12\n",
      "3.141592653589793\n",
      "1 \t 3.0442145999380683 \t 1.0442145999380683\n",
      "2 \t 3.1388643666230323 \t 0.09464976668496394\n",
      "3 \t 3.1415902909919597 \t 0.0027259243689274903\n",
      "4 \t 3.1415926535880163 \t 2.3625960565709647e-06\n",
      "5 \t 3.141592653589793 \t 1.7768009286101005e-12\n",
      "3.141592653589793\n"
     ]
    }
   ],
   "source": [
    "raiz = raiz_newton_a(mi_fun,deriv_mi_fun,2)\n",
    "print(raiz)\n",
    "raiz = raiz_newton_n(mi_fun,2)\n",
    "print(raiz)"
   ]
  },
  {
   "cell_type": "code",
   "execution_count": 45,
   "id": "727dc168-57ea-44b8-b124-c4b00a91a41f",
   "metadata": {},
   "outputs": [
    {
     "data": {
      "image/png": "[encoded data removed]",
      "text/plain": [
       "<Figure size 432x288 with 1 Axes>"
      ]
     },
     "metadata": {
      "needs_background": "light"
     },
     "output_type": "display_data"
    }
   ],
   "source": [
    "x = np.linspace(-2*np.pi,2*np.pi,100)\n",
    "y = mi_fun(x)\n",
    "dy = deriv_mi_fun(x)\n",
    "plt.plot(x,y,label=r\"$f(x)$\")\n",
    "plt.plot(x,dy,label=r\"$\\frac{df(x)}{dx}$\")\n",
    "plt.grid(),plt.legend()\n",
    "plt.show()"
   ]
  },
  {
   "cell_type": "code",
   "execution_count": 74,
   "id": "f842f6b0-588f-488d-acc6-4aa12a71d49b",
   "metadata": {},
   "outputs": [],
   "source": [
    "def buscar_raiz(f,x_izq,x_der,err=1e-8):\n",
    "    f_izq , f_med = f(x_izq) , 2*err\n",
    "    d_raiz = 2*err\n",
    "    contador = 0\n",
    "    while abs(f_med) >= err or d_raiz >= err:\n",
    "        x_med = 0.5*(x_izq+x_der)\n",
    "        f_med = f(x_med)\n",
    "        fifm = f_izq*f_med\n",
    "        if fifm < 0:\n",
    "            x_izq , x_der = x_izq , x_med\n",
    "        else:\n",
    "            x_izq , x_der = x_med , x_der\n",
    "            f_izq = f_med\n",
    "        contador +=1\n",
    "        d_raiz = abs(x_izq-x_der)\n",
    "        print(contador, '\\t ',f_med,'\\t ',d_raiz)\n",
    "    return x_med"
   ]
  },
  {
   "cell_type": "code",
   "execution_count": 75,
   "id": "bdaf72b6-5b66-48dd-9881-707aae7531d3",
   "metadata": {},
   "outputs": [],
   "source": [
    "def mi_airy(x):\n",
    "    return sp.airy(x)[0]"
   ]
  },
  {
   "cell_type": "code",
   "execution_count": 76,
   "id": "67b05072-e805-446a-9e33-d2ae05742329",
   "metadata": {},
   "outputs": [
    {
     "name": "stdout",
     "output_type": "stream",
     "text": [
      "1 \t  0.22740742820168564 \t  1.0\n",
      "2 \t  -0.11232506769296623 \t  0.5\n",
      "3 \t  0.0615986587770053 \t  0.25\n",
      "4 \t  -0.025855656238569658 \t  0.125\n",
      "5 \t  0.017951630456546457 \t  0.0625\n",
      "6 \t  -0.0039565957042588425 \t  0.03125\n",
      "7 \t  0.006999503022960282 \t  0.015625\n",
      "8 \t  0.0015215619082015477 \t  0.0078125\n",
      "9 \t  -0.001217538646571347 \t  0.00390625\n",
      "10 \t  0.00015201230781351663 \t  0.001953125\n",
      "11 \t  -0.0005327637636014588 \t  0.0009765625\n",
      "12 \t  -0.00019037578096577513 \t  0.00048828125\n",
      "13 \t  -1.918173791306612e-05 \t  0.000244140625\n",
      "14 \t  6.64152861070919e-05 \t  0.0001220703125\n",
      "15 \t  2.3616774199908337e-05 \t  6.103515625e-05\n",
      "16 \t  2.217518145897393e-06 \t  3.0517578125e-05\n",
      "17 \t  -8.482109885868885e-06 \t  1.52587890625e-05\n",
      "18 \t  -3.1322958703601886e-06 \t  7.62939453125e-06\n",
      "19 \t  -4.573888622253061e-07 \t  3.814697265625e-06\n",
      "20 \t  8.800646418693707e-07 \t  1.9073486328125e-06\n",
      "21 \t  2.1133788985691002e-07 \t  9.5367431640625e-07\n",
      "22 \t  -1.2302548623008678e-07 \t  4.76837158203125e-07\n",
      "23 \t  4.415620182469396e-08 \t  2.384185791015625e-07\n",
      "24 \t  -3.9434642149023265e-08 \t  1.1920928955078125e-07\n",
      "25 \t  2.360779675149627e-09 \t  5.960464477539063e-08\n",
      "26 \t  -1.853693140483844e-08 \t  2.9802322387695312e-08\n",
      "27 \t  -8.088075677291004e-09 \t  1.4901161193847656e-08\n",
      "28 \t  -2.8636479039234424e-09 \t  7.450580596923828e-09\n"
     ]
    },
    {
     "data": {
      "text/plain": [
       "-2.3381074145436287"
      ]
     },
     "execution_count": 76,
     "metadata": {},
     "output_type": "execute_result"
    }
   ],
   "source": [
    "x0 = buscar_raiz(mi_airy,-3,-1)\n",
    "x0"
   ]
  },
  {
   "cell_type": "code",
   "execution_count": 86,
   "id": "bc6f64cd-e9a4-4858-8815-74d059d4ca9d",
   "metadata": {},
   "outputs": [
    {
     "data": {
      "text/plain": [
       "-2.338107410459767"
      ]
     },
     "execution_count": 86,
     "metadata": {},
     "output_type": "execute_result"
    }
   ],
   "source": [
    "x0 = raiz_newton_n(mi_airy,-3)\n",
    "x0"
   ]
  },
  {
   "cell_type": "code",
   "execution_count": 85,
   "id": "30dc3c8e-e0da-4437-ac82-adec5ba5499e",
   "metadata": {},
   "outputs": [],
   "source": [
    "def buscar_raiz(f,x_izq,x_der,err=1e-8):\n",
    "    f_izq , f_med = f(x_izq) , 2*err\n",
    "    d_raiz = 2*err\n",
    "    while abs(f_med) >= err or d_raiz >= err:\n",
    "        x_med = 0.5*(x_izq+x_der)\n",
    "        f_med = f(x_med)\n",
    "        fifm = f_izq*f_med\n",
    "        if fifm < 0:\n",
    "            x_izq , x_der = x_izq , x_med\n",
    "        else:\n",
    "            x_izq , x_der = x_med , x_der\n",
    "            f_izq = f_med\n",
    "        d_raiz = abs(x_izq-x_der)\n",
    "    return x_med\n",
    "\n",
    "def raiz_newton_n(f , x0 , err = 1e-8 , h=1e-5):\n",
    "    d_raiz = 2*err\n",
    "    while abs(f(x0)) >= err or d_raiz >= err:\n",
    "        x_old = x0\n",
    "        fp = (f(x0+h)-f(x0-h))/(2*h)\n",
    "        x0 = x0 - f(x0)/fp\n",
    "        d_raiz = abs(x0 - x_old)\n",
    "    return x0"
   ]
  },
  {
   "cell_type": "code",
   "execution_count": 87,
   "id": "92ed4861-f284-457e-81a5-97c78afd5c3c",
   "metadata": {},
   "outputs": [
    {
     "name": "stdout",
     "output_type": "stream",
     "text": [
      "30.9 µs ± 82.9 ns per loop (mean ± std. dev. of 7 runs, 10,000 loops each)\n"
     ]
    }
   ],
   "source": [
    "%%timeit\n",
    "x0 = buscar_raiz(mi_airy,-3,-1)"
   ]
  },
  {
   "cell_type": "code",
   "execution_count": 88,
   "id": "8372874c-e051-469e-94f5-c823e5e079dc",
   "metadata": {},
   "outputs": [
    {
     "name": "stdout",
     "output_type": "stream",
     "text": [
      "22.5 µs ± 59.1 ns per loop (mean ± std. dev. of 7 runs, 10,000 loops each)\n"
     ]
    }
   ],
   "source": [
    "%%timeit\n",
    "x0 = raiz_newton_n(mi_airy,-3)"
   ]
  },
  {
   "cell_type": "code",
   "execution_count": null,
   "id": "52ffa134-aee7-4ab8-b6f9-e73e77318d00",
   "metadata": {},
   "outputs": [],
   "source": []
  }
 ],
 "metadata": {
  "kernelspec": {
   "display_name": "Python 3 (ipykernel)",
   "language": "python",
   "name": "python3"
  },
  "language_info": {
   "codemirror_mode": {
    "name": "ipython",
    "version": 3
   },
   "file_extension": ".py",
   "mimetype": "text/x-python",
   "name": "python",
   "nbconvert_exporter": "python",
   "pygments_lexer": "ipython3",
   "version": "3.9.12"
  }
 },
 "nbformat": 4,
 "nbformat_minor": 5
}
