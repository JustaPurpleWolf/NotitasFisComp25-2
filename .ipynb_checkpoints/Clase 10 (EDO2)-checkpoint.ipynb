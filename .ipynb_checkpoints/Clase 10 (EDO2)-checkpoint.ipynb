{
 "cells": [
  {
   "cell_type": "code",
   "execution_count": 1,
   "id": "68b01553-1b33-4a14-a45b-89d3f1d9c9b0",
   "metadata": {},
   "outputs": [],
   "source": [
    "import math as m\n",
    "import numpy as np\n",
    "import matplotlib.pyplot as plt"
   ]
  },
  {
   "cell_type": "markdown",
   "id": "92b33de5-f52f-40d4-8455-3eb7ac866c98",
   "metadata": {},
   "source": [
    "$$\n",
    "\\ddot \\theta + \\omega ^2 \\sin \\theta = A \\cos \\omega_1 t\n",
    "$$\n",
    "\n",
    "$$\n",
    "\\dot \\theta  = v_{\\theta} \\\\\n",
    "\\dot v_{\\theta} = - \\omega ^2 \\sin \\theta + A \\cos \\omega_1 t\n",
    "$$\n",
    "\n",
    "$$\n",
    "\\mathbb{J}^* = \n",
    "\\left ( \\begin{matrix}\n",
    "0 & 1 & 0\\\\\n",
    "-\\omega^2 \\cos\\theta & 0 & -\\omega _1 A \\sin \\omega_1 t\n",
    "\\end{matrix}\n",
    "\\right)\n",
    "$$"
   ]
  },
  {
   "cell_type": "code",
   "execution_count": 49,
   "id": "9732d760-9457-4022-af02-e23170f783d9",
   "metadata": {},
   "outputs": [],
   "source": [
    "def pendulo_simple(x , t , args=[0,0]):\n",
    "    # x = (theta, v_theta)\n",
    "    # args = Amplitud , omega_1\n",
    "    return np.array([ x[1] , -np.sin(x[0]) + args[0]*np.cos(args[1]*t)])\n",
    "\n",
    "def J_pendulo_simple(x , t , args=[0,0]):\n",
    "    # J = [(0, 1) , (-w2 cos(th) , 0)]\n",
    "    # args = Amplitud , omega_1\n",
    "    return np.array([[0, 1,0] , [-np.cos(x[0]) , 0,-args[0]*args[1]*np.sin(args[1]*t)]])\n",
    "\n",
    "def EDO_Jac(g,Jac,x0,t,args=None):\n",
    "    #para un sistema NO autonomo\n",
    "    h , sol = t[1]-t[0] , np.zeros( (len(x0),len(t)) )\n",
    "    sol[:,0] = x0 #condicion inicial\n",
    "    for i in range(len(t)-1):\n",
    "        sol[:,i+1] = sol[:,i] + h*g(sol[:,i],t[i],args) \n",
    "        sol[:,i+1] += 0.5*(h**2)*np.dot( Jac(sol[:,i],t[i],args), np.concatenate((g(sol[:,i],t[i],args),[1])) )\n",
    "    return sol"
   ]
  },
  {
   "cell_type": "code",
   "execution_count": 60,
   "id": "793633f6-35b4-4ba3-b156-09efe9bbdc28",
   "metadata": {},
   "outputs": [
    {
     "data": {
      "image/png": "[encoded data removed]",
      "text/plain": [
       "<Figure size 432x288 with 1 Axes>"
      ]
     },
     "metadata": {
      "needs_background": "light"
     },
     "output_type": "display_data"
    }
   ],
   "source": [
    "t = np.linspace(0,3*np.pi,100)\n",
    "sol = EDO_Jac(pendulo_simple,J_pendulo_simple,[1,0],t,args=[0,0])\n",
    "plt.plot(sol[0,:],sol[1,:])\n",
    "plt.show()"
   ]
  },
  {
   "cell_type": "code",
   "execution_count": 54,
   "id": "3f590e2c-d8dd-4245-a6d5-c1acf8a3eff3",
   "metadata": {},
   "outputs": [
    {
     "data": {
      "text/plain": [
       "(array([ 1.        , -0.84147098]),\n",
       " array([[ 0.        ,  1.        ,  0.        ],\n",
       "        [-0.54030231,  0.        ,  0.        ]]),\n",
       " array([ 1.        , -0.84147098,  1.        ]))"
      ]
     },
     "execution_count": 54,
     "metadata": {},
     "output_type": "execute_result"
    }
   ],
   "source": [
    "a=pendulo_simple([1,1,1],1)\n",
    "b=J_pendulo_simple([1,1,1],1)\n",
    "a,b , np.concatenate( (a,[1]) )"
   ]
  },
  {
   "cell_type": "code",
   "execution_count": 55,
   "id": "823cc362-9185-4afe-827b-14915b593e41",
   "metadata": {},
   "outputs": [
    {
     "data": {
      "text/plain": [
       "array([-0.84147098, -0.54030231])"
      ]
     },
     "execution_count": 55,
     "metadata": {},
     "output_type": "execute_result"
    }
   ],
   "source": [
    "np.dot(b,np.concatenate((a,[1])))"
   ]
  },
  {
   "cell_type": "code",
   "execution_count": null,
   "id": "c39c16b4-db59-4adc-b7f4-ed0ebabe3465",
   "metadata": {},
   "outputs": [],
   "source": []
  }
 ],
 "metadata": {
  "kernelspec": {
   "display_name": "Python 3 (ipykernel)",
   "language": "python",
   "name": "python3"
  },
  "language_info": {
   "codemirror_mode": {
    "name": "ipython",
    "version": 3
   },
   "file_extension": ".py",
   "mimetype": "text/x-python",
   "name": "python",
   "nbconvert_exporter": "python",
   "pygments_lexer": "ipython3",
   "version": "3.9.12"
  }
 },
 "nbformat": 4,
 "nbformat_minor": 5
}
