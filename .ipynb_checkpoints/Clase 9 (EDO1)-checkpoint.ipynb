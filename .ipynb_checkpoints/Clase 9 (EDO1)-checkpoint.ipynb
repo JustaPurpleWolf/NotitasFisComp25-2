{
 "cells": [
  {
   "cell_type": "code",
   "execution_count": 1,
   "id": "dea04135-d93a-4f55-bae7-19644afa7a08",
   "metadata": {},
   "outputs": [],
   "source": [
    "import math as m\n",
    "import numpy as np\n",
    "import matplotlib.pyplot as plt"
   ]
  },
  {
   "cell_type": "code",
   "execution_count": 2,
   "id": "0e20cc12-b32e-4d41-950c-7b20bd5fd7c2",
   "metadata": {},
   "outputs": [
    {
     "data": {
      "text/plain": [
       "(array([2, 5]), array([4, 7]), array([ 8, 35]), 43)"
      ]
     },
     "execution_count": 2,
     "metadata": {},
     "output_type": "execute_result"
    }
   ],
   "source": [
    "x = np.array([2,5])\n",
    "y = np.array([4,7])\n",
    "x , y , x*y , np.dot(x,y)"
   ]
  },
  {
   "cell_type": "code",
   "execution_count": 3,
   "id": "d31ff766-a51e-4e78-bf09-ffbf62fe101b",
   "metadata": {},
   "outputs": [
    {
     "data": {
      "text/plain": [
       "array([2, 5])"
      ]
     },
     "execution_count": 3,
     "metadata": {},
     "output_type": "execute_result"
    }
   ],
   "source": [
    "np.array(x)"
   ]
  },
  {
   "cell_type": "code",
   "execution_count": 4,
   "id": "e7fb66f0-4bb4-493b-acaa-2538102e8802",
   "metadata": {},
   "outputs": [
    {
     "data": {
      "text/plain": [
       "(array([[2., 5.],\n",
       "        [1., 4.]]),\n",
       " array([29., 22.]))"
      ]
     },
     "execution_count": 4,
     "metadata": {},
     "output_type": "execute_result"
    }
   ],
   "source": [
    "M = np.array([[2.0,5.0],[1.0,4.0]])\n",
    "M, np.dot(M,x)"
   ]
  },
  {
   "cell_type": "markdown",
   "id": "5c1927dd-d1ec-4654-9ed9-7bea480cbe29",
   "metadata": {},
   "source": [
    "Tenemos un sistema de ecuaciones diferenciales ordinarias\n",
    "$$\n",
    "\\frac{d\\vec x}{dt} = \\vec g(\\vec x,t)\n",
    "$$\n",
    "\n",
    "$$\n",
    "\\vec x_{n+1} = \\vec x_n + \\delta \\vec g(\\vec x_n,t_n) +\\frac{\\delta ^2}{2} \\mathbb{J}(\\vec x_n,t_n) \\cdot \\vec g(\\vec x_n,t_n)\n",
    "$$\n",
    "\n",
    "donde $\\delta$ es paso de integración y $\\vec x$ son variables del sistema de ecuaciones diferenciales."
   ]
  },
  {
   "cell_type": "code",
   "execution_count": 26,
   "id": "a28901df-d732-4d42-a0a3-d31420bcb782",
   "metadata": {},
   "outputs": [],
   "source": [
    "def pendulo_simple(x , w2=1):\n",
    "    # x = (theta, v_theta)\n",
    "    return np.array([ x[1] , -w2*np.sin(x[0]) ])\n",
    "\n",
    "def EDO_Euler(g,x0,t):\n",
    "    h , sol = t[1]-t[0] , np.zeros( (len(x0),len(t)) )\n",
    "    sol[:,0] = x0 #condicion inicial\n",
    "    for i in range(len(t)-1):\n",
    "        sol[:,i+1] = sol[:,i] + h*g(sol[:,i])\n",
    "    return sol"
   ]
  },
  {
   "cell_type": "code",
   "execution_count": 40,
   "id": "1261aa1b-a210-4b1b-86ed-cbfdda09cdfc",
   "metadata": {},
   "outputs": [
    {
     "name": "stdout",
     "output_type": "stream",
     "text": [
      "1257\n"
     ]
    },
    {
     "data": {
      "image/png": "[encoded data removed]",
      "text/plain": [
       "<Figure size 432x288 with 1 Axes>"
      ]
     },
     "metadata": {
      "needs_background": "light"
     },
     "output_type": "display_data"
    }
   ],
   "source": [
    "t = np.arange(0,4*np.pi,0.01)\n",
    "print(len(t))\n",
    "sol_pendulo = EDO_Euler(pendulo_simple,[0,1],t)\n",
    "plt.plot(sol_pendulo[0,0],sol_pendulo[1,0],'x')\n",
    "plt.plot(sol_pendulo[0,:],sol_pendulo[1,:])\n",
    "plt.title('Plano fase del péndulo')\n",
    "plt.xlabel(r'$\\theta$'),plt.ylabel(r'$v_{\\theta}$'),\n",
    "plt.gca().set_aspect('equal')\n",
    "plt.show()"
   ]
  },
  {
   "cell_type": "code",
   "execution_count": null,
   "id": "fcd951a7-4a55-4772-90b7-e07e53704c53",
   "metadata": {},
   "outputs": [],
   "source": []
  }
 ],
 "metadata": {
  "kernelspec": {
   "display_name": "Python 3 (ipykernel)",
   "language": "python",
   "name": "python3"
  },
  "language_info": {
   "codemirror_mode": {
    "name": "ipython",
    "version": 3
   },
   "file_extension": ".py",
   "mimetype": "text/x-python",
   "name": "python",
   "nbconvert_exporter": "python",
   "pygments_lexer": "ipython3",
   "version": "3.9.12"
  }
 },
 "nbformat": 4,
 "nbformat_minor": 5
}
