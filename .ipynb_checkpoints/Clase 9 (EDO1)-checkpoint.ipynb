{
 "cells": [
  {
   "cell_type": "code",
   "execution_count": 1,
   "id": "dea04135-d93a-4f55-bae7-19644afa7a08",
   "metadata": {},
   "outputs": [],
   "source": [
    "import math as m\n",
    "import numpy as np\n",
    "import matplotlib.pyplot as plt"
   ]
  },
  {
   "cell_type": "code",
   "execution_count": 6,
   "id": "0e20cc12-b32e-4d41-950c-7b20bd5fd7c2",
   "metadata": {},
   "outputs": [
    {
     "data": {
      "text/plain": [
       "(array([2, 5]), array([4, 7]), array([ 8, 35]), 43)"
      ]
     },
     "execution_count": 6,
     "metadata": {},
     "output_type": "execute_result"
    }
   ],
   "source": [
    "x = np.array([2,5])\n",
    "y = np.array([4,7])\n",
    "x , y , x*y , np.dot(x,y)"
   ]
  },
  {
   "cell_type": "code",
   "execution_count": 20,
   "id": "d31ff766-a51e-4e78-bf09-ffbf62fe101b",
   "metadata": {},
   "outputs": [
    {
     "data": {
      "text/plain": [
       "array([2, 5])"
      ]
     },
     "execution_count": 20,
     "metadata": {},
     "output_type": "execute_result"
    }
   ],
   "source": [
    "np.array(x)"
   ]
  },
  {
   "cell_type": "code",
   "execution_count": 18,
   "id": "e7fb66f0-4bb4-493b-acaa-2538102e8802",
   "metadata": {},
   "outputs": [
    {
     "data": {
      "text/plain": [
       "(array([[2., 5.],\n",
       "        [1., 4.]]),\n",
       " array([29., 22.]))"
      ]
     },
     "execution_count": 18,
     "metadata": {},
     "output_type": "execute_result"
    }
   ],
   "source": [
    "M = np.array([[2.0,5.0],[1.0,4.0]])\n",
    "M, np.dot(M,x)"
   ]
  },
  {
   "cell_type": "code",
   "execution_count": 24,
   "id": "a28901df-d732-4d42-a0a3-d31420bcb782",
   "metadata": {},
   "outputs": [],
   "source": [
    "def pendulo_simple(x , w2=1):\n",
    "    # x = (theta, v_theta)\n",
    "    return np.array([ x[1] , -w2*np.sin(x[0]) ])\n",
    "\n",
    "def EDO_Euler(g,x0,t,h=0.1):\n",
    "    N = int((t[1]-t[0])/h)\n",
    "    tiempo = np.linspace(t[0],t[1],N)\n",
    "    sol = np.zeros((len(x0),N))\n",
    "    sol[:,0] = x0\n",
    "    for i in range(N-1):\n",
    "        sol[:,i+1] = sol[:,i] + h*g(sol[:,i])\n",
    "    return sol"
   ]
  },
  {
   "cell_type": "code",
   "execution_count": 25,
   "id": "1261aa1b-a210-4b1b-86ed-cbfdda09cdfc",
   "metadata": {},
   "outputs": [
    {
     "data": {
      "text/plain": [
       "array([[ 1.        ,  1.        ,  0.99158529,  0.97475587,  0.9495575 ,\n",
       "         0.91608349,  0.87447789,  0.82494007,  0.76773015,  0.70317517,\n",
       "         0.63167515,  0.5537087 ,  0.46983727,  0.38070739,  0.2870501 ,\n",
       "         0.18967703,  0.08947273, -0.012617  , -0.11560026, -0.21845735,\n",
       "        -0.32016101, -0.41969744, -0.51608667, -0.60840105, -0.69578064,\n",
       "        -0.77744466, -0.85269884, -0.92093841, -0.98164739, -1.03439468,\n",
       "        -1.07882782],\n",
       "       [ 0.        , -0.0841471 , -0.1682942 , -0.25198367, -0.33474016,\n",
       "        -0.41605596, -0.49537824, -0.57209912, -0.64554983, -0.71500022,\n",
       "        -0.77966451, -0.83871426, -0.8912988 , -0.93657292, -0.97373065,\n",
       "        -1.00204308, -1.02089725, -1.02983259, -1.02857092, -1.01703663,\n",
       "        -0.99536424, -0.9638923 , -0.92314388, -0.87379586, -0.81664024,\n",
       "        -0.75254176, -0.68239571, -0.60708982, -0.52747284, -0.44433146,\n",
       "        -0.35837614]])"
      ]
     },
     "execution_count": 25,
     "metadata": {},
     "output_type": "execute_result"
    }
   ],
   "source": [
    "EDO_Euler(pendulo_simple,[1,0],[0,np.pi])"
   ]
  },
  {
   "cell_type": "code",
   "execution_count": null,
   "id": "123d5edc-c96f-4936-bbc3-c222912966b5",
   "metadata": {},
   "outputs": [],
   "source": []
  }
 ],
 "metadata": {
  "kernelspec": {
   "display_name": "Python 3 (ipykernel)",
   "language": "python",
   "name": "python3"
  },
  "language_info": {
   "codemirror_mode": {
    "name": "ipython",
    "version": 3
   },
   "file_extension": ".py",
   "mimetype": "text/x-python",
   "name": "python",
   "nbconvert_exporter": "python",
   "pygments_lexer": "ipython3",
   "version": "3.9.12"
  }
 },
 "nbformat": 4,
 "nbformat_minor": 5
}
