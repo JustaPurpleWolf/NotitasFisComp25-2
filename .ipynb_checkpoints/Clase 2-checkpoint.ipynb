{
 "cells": [
  {
   "cell_type": "markdown",
   "id": "8acb18dc-126a-439f-817d-5bd7e3711a0a",
   "metadata": {},
   "source": [
    "## Clase 2\n",
    "\n",
    "🤪"
   ]
  },
  {
   "cell_type": "code",
   "execution_count": 10,
   "id": "962bf3c5-2ee8-4984-92da-05c7dba6bcf8",
   "metadata": {},
   "outputs": [
    {
     "name": "stdout",
     "output_type": "stream",
     "text": [
      "8.0\n",
      "243.0\n",
      "<class 'int'>\n",
      "<class 'float'>\n",
      "<class 'float'>\n"
     ]
    }
   ],
   "source": [
    "a = 3\n",
    "b = 5.0\n",
    "print(a+b)\n",
    "print(a**b)\n",
    "print(type(a))\n",
    "print(type(b))\n",
    "print(type(a**b))"
   ]
  },
  {
   "cell_type": "code",
   "execution_count": 16,
   "id": "b6a57392-1aee-43a6-a088-5990a36a27ec",
   "metadata": {},
   "outputs": [
    {
     "data": {
      "text/plain": [
       "str"
      ]
     },
     "execution_count": 16,
     "metadata": {},
     "output_type": "execute_result"
    }
   ],
   "source": [
    "nombre = \"Rich\"\n",
    "type(nombre)"
   ]
  },
  {
   "cell_type": "code",
   "execution_count": 22,
   "id": "3de896ca-58fa-4100-92ff-de93ddea30cc",
   "metadata": {},
   "outputs": [
    {
     "data": {
      "text/plain": [
       "tuple"
      ]
     },
     "execution_count": 22,
     "metadata": {},
     "output_type": "execute_result"
    }
   ],
   "source": [
    "type( (nombre,a,b) )"
   ]
  },
  {
   "cell_type": "code",
   "execution_count": 23,
   "id": "2bd1a84b-0a0d-4836-b755-b806ee44f69a",
   "metadata": {},
   "outputs": [
    {
     "data": {
      "text/plain": [
       "list"
      ]
     },
     "execution_count": 23,
     "metadata": {},
     "output_type": "execute_result"
    }
   ],
   "source": [
    "type( [nombre,a,b] )"
   ]
  },
  {
   "cell_type": "code",
   "execution_count": 24,
   "id": "f52c69b0-5f4d-49e7-9e45-1b1382a06eb0",
   "metadata": {},
   "outputs": [],
   "source": [
    "mi_tupla = (nombre,a,b)\n",
    "mi_lista = [nombre,a,b]"
   ]
  },
  {
   "cell_type": "code",
   "execution_count": 25,
   "id": "4abcf331-8e8c-4400-a9bc-d56ae9d4512d",
   "metadata": {},
   "outputs": [
    {
     "data": {
      "text/plain": [
       "'Rich'"
      ]
     },
     "execution_count": 25,
     "metadata": {},
     "output_type": "execute_result"
    }
   ],
   "source": [
    "mi_tupla[0]"
   ]
  },
  {
   "cell_type": "code",
   "execution_count": 40,
   "id": "86d6181b-aa38-432a-89f3-a4ae056e27dc",
   "metadata": {},
   "outputs": [
    {
     "name": "stdout",
     "output_type": "stream",
     "text": [
      "RichRichRich\n"
     ]
    }
   ],
   "source": [
    "print((a*mi_lista[0]))"
   ]
  },
  {
   "cell_type": "code",
   "execution_count": 41,
   "id": "e1da692f-587e-4242-af3c-1d411d610792",
   "metadata": {},
   "outputs": [
    {
     "data": {
      "text/plain": [
       "'ic'"
      ]
     },
     "execution_count": 41,
     "metadata": {},
     "output_type": "execute_result"
    }
   ],
   "source": [
    "(a*mi_lista[0])[5:7]"
   ]
  },
  {
   "cell_type": "code",
   "execution_count": 42,
   "id": "3f251205-5115-41b0-a33b-2c341e10d5bd",
   "metadata": {},
   "outputs": [
    {
     "data": {
      "text/plain": [
       "'Instantly share code'"
      ]
     },
     "execution_count": 42,
     "metadata": {},
     "output_type": "execute_result"
    }
   ],
   "source": [
    "frase = \"Instantly share code\"\n",
    "frase"
   ]
  },
  {
   "cell_type": "code",
   "execution_count": 43,
   "id": "f13dc65c-2ae3-4f97-89c7-b72b06ba1579",
   "metadata": {},
   "outputs": [
    {
     "data": {
      "text/plain": [
       "'stantly share code'"
      ]
     },
     "execution_count": 43,
     "metadata": {},
     "output_type": "execute_result"
    }
   ],
   "source": [
    "frase[2:]"
   ]
  },
  {
   "cell_type": "code",
   "execution_count": 45,
   "id": "96c19546-043a-4c1c-bdbd-5bb0051ed701",
   "metadata": {},
   "outputs": [
    {
     "data": {
      "text/plain": [
       "'Instantly sh'"
      ]
     },
     "execution_count": 45,
     "metadata": {},
     "output_type": "execute_result"
    }
   ],
   "source": [
    "frase[:12]"
   ]
  },
  {
   "cell_type": "code",
   "execution_count": 47,
   "id": "768379ef-9980-4879-b542-fc986cfc28a3",
   "metadata": {},
   "outputs": [
    {
     "data": {
      "text/plain": [
       "'stantly shstantly shstantly shstantly shstantly sh'"
      ]
     },
     "execution_count": 47,
     "metadata": {},
     "output_type": "execute_result"
    }
   ],
   "source": [
    "5*frase[2:12]"
   ]
  },
  {
   "cell_type": "code",
   "execution_count": 58,
   "id": "f34cf951-3b3e-4b4b-89e0-b22fe5cc8a9a",
   "metadata": {},
   "outputs": [
    {
     "data": {
      "text/plain": [
       "3.449556384369405e+54"
      ]
     },
     "execution_count": 58,
     "metadata": {},
     "output_type": "execute_result"
    }
   ],
   "source": [
    "4.1**89"
   ]
  },
  {
   "cell_type": "code",
   "execution_count": 51,
   "id": "fbfe7488-cde7-486b-a18b-2233fbe7ebe1",
   "metadata": {},
   "outputs": [
    {
     "data": {
      "text/plain": [
       "18446744073709551616"
      ]
     },
     "execution_count": 51,
     "metadata": {},
     "output_type": "execute_result"
    }
   ],
   "source": [
    "2**64"
   ]
  },
  {
   "cell_type": "code",
   "execution_count": 75,
   "id": "c5bee412-9550-40ed-81c6-02c30a471fb3",
   "metadata": {},
   "outputs": [],
   "source": [
    "import math as m\n",
    "import numpy as np"
   ]
  },
  {
   "cell_type": "code",
   "execution_count": 78,
   "id": "97c0fe1b-c142-4ff2-b4e8-2700f897633c",
   "metadata": {},
   "outputs": [],
   "source": [
    "from math import *\n",
    "from numpy import *"
   ]
  },
  {
   "cell_type": "code",
   "execution_count": 71,
   "id": "f8fc0887-894b-43db-a0c6-f970790eb21d",
   "metadata": {},
   "outputs": [
    {
     "data": {
      "text/plain": [
       "0.0"
      ]
     },
     "execution_count": 71,
     "metadata": {},
     "output_type": "execute_result"
    }
   ],
   "source": [
    "m.tan(0)"
   ]
  },
  {
   "cell_type": "code",
   "execution_count": 77,
   "id": "f29532c3-569b-4e51-a347-3400d3037c64",
   "metadata": {},
   "outputs": [
    {
     "data": {
      "text/plain": [
       "0.0"
      ]
     },
     "execution_count": 77,
     "metadata": {},
     "output_type": "execute_result"
    }
   ],
   "source": [
    "tan(0)"
   ]
  },
  {
   "cell_type": "code",
   "execution_count": 72,
   "id": "f132c511-1c47-4cda-92ed-c66dc55745cb",
   "metadata": {},
   "outputs": [
    {
     "data": {
      "text/plain": [
       "1.4142135623730951"
      ]
     },
     "execution_count": 72,
     "metadata": {},
     "output_type": "execute_result"
    }
   ],
   "source": [
    "m.sqrt(2)"
   ]
  },
  {
   "cell_type": "code",
   "execution_count": 73,
   "id": "5987b2f7-7030-47d2-89bb-6a8c4e8672b6",
   "metadata": {},
   "outputs": [
    {
     "data": {
      "text/plain": [
       "\u001b[0;31mSignature:\u001b[0m \u001b[0mm\u001b[0m\u001b[0;34m.\u001b[0m\u001b[0matan\u001b[0m\u001b[0;34m(\u001b[0m\u001b[0mx\u001b[0m\u001b[0;34m,\u001b[0m \u001b[0;34m/\u001b[0m\u001b[0;34m)\u001b[0m\u001b[0;34m\u001b[0m\u001b[0;34m\u001b[0m\u001b[0m\n",
       "\u001b[0;31mDocstring:\u001b[0m\n",
       "Return the arc tangent (measured in radians) of x.\n",
       "\n",
       "The result is between -pi/2 and pi/2.\n",
       "\u001b[0;31mType:\u001b[0m      builtin_function_or_method\n"
      ]
     },
     "metadata": {},
     "output_type": "display_data"
    }
   ],
   "source": [
    "?m.atan"
   ]
  },
  {
   "cell_type": "code",
   "execution_count": 74,
   "id": "d1e9be87-a2c8-4c4c-97d9-76102441cc44",
   "metadata": {},
   "outputs": [
    {
     "data": {
      "text/plain": [
       "\u001b[0;31mSignature:\u001b[0m \u001b[0mmath\u001b[0m\u001b[0;34m.\u001b[0m\u001b[0matan2\u001b[0m\u001b[0;34m(\u001b[0m\u001b[0my\u001b[0m\u001b[0;34m,\u001b[0m \u001b[0mx\u001b[0m\u001b[0;34m,\u001b[0m \u001b[0;34m/\u001b[0m\u001b[0;34m)\u001b[0m\u001b[0;34m\u001b[0m\u001b[0;34m\u001b[0m\u001b[0m\n",
       "\u001b[0;31mDocstring:\u001b[0m\n",
       "Return the arc tangent (measured in radians) of y/x.\n",
       "\n",
       "Unlike atan(y/x), the signs of both x and y are considered.\n",
       "\u001b[0;31mType:\u001b[0m      builtin_function_or_method\n"
      ]
     },
     "metadata": {},
     "output_type": "display_data"
    }
   ],
   "source": [
    "?math.atan2"
   ]
  },
  {
   "cell_type": "code",
   "execution_count": 68,
   "id": "ca28b3fe-3207-46d1-ac1a-ac5627966390",
   "metadata": {},
   "outputs": [
    {
     "data": {
      "text/plain": [
       "0.7853981633974483"
      ]
     },
     "execution_count": 68,
     "metadata": {},
     "output_type": "execute_result"
    }
   ],
   "source": [
    "math.atan2(1,1)"
   ]
  },
  {
   "cell_type": "code",
   "execution_count": 69,
   "id": "e0d16596-e6c8-4afd-8721-ad71dcc62063",
   "metadata": {},
   "outputs": [
    {
     "data": {
      "text/plain": [
       "-2.356194490192345"
      ]
     },
     "execution_count": 69,
     "metadata": {},
     "output_type": "execute_result"
    }
   ],
   "source": [
    "math.atan2(-1,-1)"
   ]
  },
  {
   "cell_type": "code",
   "execution_count": 93,
   "id": "82bb7c09-470e-403d-8072-c3bccd580e8f",
   "metadata": {},
   "outputs": [],
   "source": [
    "def patata( x , y , N=10 , M=6 ):\n",
    "    print(\"La suma es: \\t\\t\", x+y)\n",
    "    print(\"La multiplicacion es: \\t\", x*y)\n",
    "    print(\"La potencia de \",x,\"^(%2.2f + %2.2f) es: \" %(N,M), x**(N+M) )"
   ]
  },
  {
   "cell_type": "code",
   "execution_count": 95,
   "id": "40d487b5-5707-45e1-80aa-981cf7460cac",
   "metadata": {},
   "outputs": [
    {
     "name": "stdout",
     "output_type": "stream",
     "text": [
      "La suma es: \t\t 11\n",
      "La multiplicacion es: \t 28\n",
      "La potencia de  4 ^(10.00 + 6.00) es:  4294967296\n"
     ]
    }
   ],
   "source": [
    "patata(4,7)"
   ]
  },
  {
   "cell_type": "code",
   "execution_count": 97,
   "id": "fad65547-e691-4737-b63e-7a4d7a83ef71",
   "metadata": {},
   "outputs": [
    {
     "name": "stdout",
     "output_type": "stream",
     "text": [
      "La suma es: \t\t 11\n",
      "La multiplicacion es: \t 28\n",
      "La potencia de  4 ^(8.00 + 6.00) es:  268435456\n"
     ]
    }
   ],
   "source": [
    "patata(4,7,8)"
   ]
  },
  {
   "cell_type": "code",
   "execution_count": 98,
   "id": "acbcde4d-2472-4867-b854-7289ca0b20fb",
   "metadata": {},
   "outputs": [
    {
     "name": "stdout",
     "output_type": "stream",
     "text": [
      "La suma es: \t\t 11\n",
      "La multiplicacion es: \t 28\n",
      "La potencia de  4 ^(3.00 + 9.00) es:  16777216\n"
     ]
    }
   ],
   "source": [
    "patata(4,7,3,9)"
   ]
  },
  {
   "cell_type": "code",
   "execution_count": null,
   "id": "91304359-2b64-453f-9896-015fb9ae2a66",
   "metadata": {},
   "outputs": [],
   "source": []
  }
 ],
 "metadata": {
  "kernelspec": {
   "display_name": "Python 3 (ipykernel)",
   "language": "python",
   "name": "python3"
  },
  "language_info": {
   "codemirror_mode": {
    "name": "ipython",
    "version": 3
   },
   "file_extension": ".py",
   "mimetype": "text/x-python",
   "name": "python",
   "nbconvert_exporter": "python",
   "pygments_lexer": "ipython3",
   "version": "3.9.12"
  }
 },
 "nbformat": 4,
 "nbformat_minor": 5
}
