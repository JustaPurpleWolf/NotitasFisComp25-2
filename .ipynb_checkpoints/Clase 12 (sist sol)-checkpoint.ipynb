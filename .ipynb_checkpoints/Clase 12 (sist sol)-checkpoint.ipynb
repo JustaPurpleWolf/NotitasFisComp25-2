{
 "cells": [
  {
   "cell_type": "code",
   "execution_count": 2,
   "id": "c3499c63-94b9-4429-9481-260aa4cc2be9",
   "metadata": {},
   "outputs": [],
   "source": [
    "import math as m\n",
    "import numpy as np\n",
    "import scipy.integrate as sp\n",
    "import matplotlib.pyplot as plt"
   ]
  },
  {
   "cell_type": "code",
   "execution_count": 7,
   "id": "435a64cf-93a3-4ab3-9620-0e07214223af",
   "metadata": {},
   "outputs": [],
   "source": [
    "def sist_sol(t,x_v):\n",
    "    # x_v = [x,y,vx,vy]\n",
    "    dx = x_v[3]\n",
    "    dy = x_v[4]\n",
    "    dz = x_v[5]\n",
    "    r32 = ( x_v[0]**2 + x_v[1]**2 + x_v[2]**2 )**1.5\n",
    "    dvx = -x_v[0]/r32\n",
    "    dvy = -x_v[1]/r32\n",
    "    dvz = -x_v[2]/r32\n",
    "    return np.array([dx,dy,dz,dvx,dvy,dvz])"
   ]
  },
  {
   "cell_type": "code",
   "execution_count": 30,
   "id": "9922eb1b-6120-4087-99bd-7e81c292c5e7",
   "metadata": {},
   "outputs": [],
   "source": [
    "t = np.linspace(0,4*np.pi,100)\n",
    "sol = sp.solve_ivp(sist_sol,(t[0],t[-1]),[1,0,0,0.6,1,0],dense_output=True,atol=1e-9,rtol=1e-9)"
   ]
  },
  {
   "cell_type": "code",
   "execution_count": 32,
   "id": "dc9d7ce5-a39c-41b3-b005-56bb9e3c2691",
   "metadata": {},
   "outputs": [
    {
     "data": {
      "image/png": "[encoded data removed]",
      "text/plain": [
       "<Figure size 432x288 with 1 Axes>"
      ]
     },
     "metadata": {
      "needs_background": "light"
     },
     "output_type": "display_data"
    }
   ],
   "source": [
    "tray = sol.sol(t)\n",
    "x , y = tray[0] , tray[1]\n",
    "plt.plot(x,y,'.')\n",
    "plt.gca().set_aspect('equal')"
   ]
  },
  {
   "cell_type": "code",
   "execution_count": null,
   "id": "e1f09314-5b01-450d-9035-a54a90eb100f",
   "metadata": {},
   "outputs": [],
   "source": []
  }
 ],
 "metadata": {
  "kernelspec": {
   "display_name": "Python 3 (ipykernel)",
   "language": "python",
   "name": "python3"
  },
  "language_info": {
   "codemirror_mode": {
    "name": "ipython",
    "version": 3
   },
   "file_extension": ".py",
   "mimetype": "text/x-python",
   "name": "python",
   "nbconvert_exporter": "python",
   "pygments_lexer": "ipython3",
   "version": "3.9.12"
  }
 },
 "nbformat": 4,
 "nbformat_minor": 5
}
