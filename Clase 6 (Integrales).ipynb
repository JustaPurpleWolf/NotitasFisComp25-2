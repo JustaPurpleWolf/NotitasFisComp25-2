{
 "cells": [
  {
   "cell_type": "code",
   "execution_count": 1,
   "id": "82b9ff99-7d64-40c1-80ba-b58d0612cb53",
   "metadata": {},
   "outputs": [],
   "source": [
    "import math as m\n",
    "import numpy as np\n",
    "import matplotlib.pyplot as plt"
   ]
  },
  {
   "cell_type": "markdown",
   "id": "dadee40c-1bda-4f7a-8f21-42754bfcc89b",
   "metadata": {},
   "source": [
    "$$\n",
    "\\int _{x_i -h} ^{x_i +h} f(x)dx = \\frac{f_{i-1} +4f_i +f_{i+1}}{3}h\n",
    "$$"
   ]
  },
  {
   "cell_type": "code",
   "execution_count": 80,
   "id": "70b6b8da-6fcb-4082-b355-c6579d14b3d0",
   "metadata": {},
   "outputs": [],
   "source": [
    "def integrar(f,x):\n",
    "    int_f , m , h = 0 , len(f)%2 , x[1]-x[0]\n",
    "    N = int(len(f)/2)\n",
    "    if m == 0:\n",
    "        print('par')\n",
    "        N += -1\n",
    "    for i in range(N):\n",
    "        indice = 2*i +1\n",
    "        #print(indice)\n",
    "        int_f += f[indice-1] + 4*f[indice] + f[indice+1]\n",
    "    return int_f*h/3.0"
   ]
  },
  {
   "cell_type": "code",
   "execution_count": 84,
   "id": "4428cfab-ec2f-4329-a98f-4e7e19e0f405",
   "metadata": {},
   "outputs": [
    {
     "data": {
      "text/plain": [
       "2.0000001732531385"
      ]
     },
     "execution_count": 84,
     "metadata": {},
     "output_type": "execute_result"
    }
   ],
   "source": [
    "x = np.linspace(0,np.pi,51)\n",
    "y = np.sin(x)\n",
    "integrar(y,x)"
   ]
  },
  {
   "cell_type": "code",
   "execution_count": 10,
   "id": "b3b8c119-e46f-4fa4-9dd0-70cf873a639a",
   "metadata": {},
   "outputs": [
    {
     "data": {
      "text/plain": [
       "1.5"
      ]
     },
     "execution_count": 10,
     "metadata": {},
     "output_type": "execute_result"
    }
   ],
   "source": [
    "3.0/2.0"
   ]
  },
  {
   "cell_type": "code",
   "execution_count": null,
   "id": "6c00c2f8-7972-4f5e-bd09-314a65bd3e72",
   "metadata": {},
   "outputs": [],
   "source": []
  }
 ],
 "metadata": {
  "kernelspec": {
   "display_name": "Python 3 (ipykernel)",
   "language": "python",
   "name": "python3"
  },
  "language_info": {
   "codemirror_mode": {
    "name": "ipython",
    "version": 3
   },
   "file_extension": ".py",
   "mimetype": "text/x-python",
   "name": "python",
   "nbconvert_exporter": "python",
   "pygments_lexer": "ipython3",
   "version": "3.9.12"
  }
 },
 "nbformat": 4,
 "nbformat_minor": 5
}
